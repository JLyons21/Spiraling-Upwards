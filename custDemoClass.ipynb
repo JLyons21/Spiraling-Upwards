{
 "cells": [
  {
   "cell_type": "code",
   "execution_count": 1,
   "id": "01dca583",
   "metadata": {},
   "outputs": [],
   "source": [
    "import numpy as np\n",
    "import pandas as pd\n",
    "import matplotlib.pyplot as plt"
   ]
  },
  {
   "cell_type": "code",
   "execution_count": 2,
   "id": "bd345780",
   "metadata": {},
   "outputs": [
    {
     "name": "stdout",
     "output_type": "stream",
     "text": [
      "Requirement already satisfied: pandas_profiling in c:\\users\\bling\\anaconda3\\envs\\task1.1\\lib\\site-packages (3.2.0)\n",
      "Requirement already satisfied: requests>=2.24.0 in c:\\users\\bling\\anaconda3\\envs\\task1.1\\lib\\site-packages (from pandas_profiling) (2.28.1)\n",
      "Requirement already satisfied: markupsafe~=2.1.1 in c:\\users\\bling\\anaconda3\\envs\\task1.1\\lib\\site-packages (from pandas_profiling) (2.1.1)\n",
      "Requirement already satisfied: missingno>=0.4.2 in c:\\users\\bling\\anaconda3\\envs\\task1.1\\lib\\site-packages (from pandas_profiling) (0.5.1)\n",
      "Requirement already satisfied: multimethod>=1.4 in c:\\users\\bling\\anaconda3\\envs\\task1.1\\lib\\site-packages (from pandas_profiling) (1.8)\n",
      "Requirement already satisfied: scipy>=1.4.1 in c:\\users\\bling\\anaconda3\\envs\\task1.1\\lib\\site-packages (from pandas_profiling) (1.7.3)\n",
      "Requirement already satisfied: numpy>=1.16.0 in c:\\users\\bling\\anaconda3\\envs\\task1.1\\lib\\site-packages (from pandas_profiling) (1.22.3)\n",
      "Requirement already satisfied: tangled-up-in-unicode==0.2.0 in c:\\users\\bling\\anaconda3\\envs\\task1.1\\lib\\site-packages (from pandas_profiling) (0.2.0)\n",
      "Requirement already satisfied: joblib~=1.1.0 in c:\\users\\bling\\anaconda3\\envs\\task1.1\\lib\\site-packages (from pandas_profiling) (1.1.0)\n",
      "Requirement already satisfied: PyYAML>=5.0.0 in c:\\users\\bling\\anaconda3\\envs\\task1.1\\lib\\site-packages (from pandas_profiling) (6.0)\n",
      "Requirement already satisfied: pydantic>=1.8.1 in c:\\users\\bling\\anaconda3\\envs\\task1.1\\lib\\site-packages (from pandas_profiling) (1.9.1)\n",
      "Requirement already satisfied: visions[type_image_path]==0.7.4 in c:\\users\\bling\\anaconda3\\envs\\task1.1\\lib\\site-packages (from pandas_profiling) (0.7.4)\n",
      "Requirement already satisfied: matplotlib>=3.2.0 in c:\\users\\bling\\anaconda3\\envs\\task1.1\\lib\\site-packages (from pandas_profiling) (3.5.1)\n",
      "Requirement already satisfied: seaborn>=0.10.1 in c:\\users\\bling\\anaconda3\\envs\\task1.1\\lib\\site-packages (from pandas_profiling) (0.11.2)\n",
      "Requirement already satisfied: jinja2>=2.11.1 in c:\\users\\bling\\anaconda3\\envs\\task1.1\\lib\\site-packages (from pandas_profiling) (3.0.3)\n",
      "Requirement already satisfied: htmlmin>=0.1.12 in c:\\users\\bling\\anaconda3\\envs\\task1.1\\lib\\site-packages (from pandas_profiling) (0.1.12)\n",
      "Requirement already satisfied: pandas!=1.0.0,!=1.0.1,!=1.0.2,!=1.1.0,>=0.25.3 in c:\\users\\bling\\anaconda3\\envs\\task1.1\\lib\\site-packages (from pandas_profiling) (1.4.3)\n",
      "Requirement already satisfied: phik>=0.11.1 in c:\\users\\bling\\anaconda3\\envs\\task1.1\\lib\\site-packages (from pandas_profiling) (0.12.2)\n",
      "Requirement already satisfied: tqdm>=4.48.2 in c:\\users\\bling\\anaconda3\\envs\\task1.1\\lib\\site-packages (from pandas_profiling) (4.64.0)\n",
      "Requirement already satisfied: attrs>=19.3.0 in c:\\users\\bling\\anaconda3\\envs\\task1.1\\lib\\site-packages (from visions[type_image_path]==0.7.4->pandas_profiling) (21.4.0)\n",
      "Requirement already satisfied: networkx>=2.4 in c:\\users\\bling\\anaconda3\\envs\\task1.1\\lib\\site-packages (from visions[type_image_path]==0.7.4->pandas_profiling) (2.8.5)\n",
      "Requirement already satisfied: Pillow in c:\\users\\bling\\anaconda3\\envs\\task1.1\\lib\\site-packages (from visions[type_image_path]==0.7.4->pandas_profiling) (9.2.0)\n",
      "Requirement already satisfied: imagehash in c:\\users\\bling\\anaconda3\\envs\\task1.1\\lib\\site-packages (from visions[type_image_path]==0.7.4->pandas_profiling) (4.2.1)\n",
      "Requirement already satisfied: fonttools>=4.22.0 in c:\\users\\bling\\anaconda3\\envs\\task1.1\\lib\\site-packages (from matplotlib>=3.2.0->pandas_profiling) (4.25.0)\n",
      "Requirement already satisfied: packaging>=20.0 in c:\\users\\bling\\anaconda3\\envs\\task1.1\\lib\\site-packages (from matplotlib>=3.2.0->pandas_profiling) (21.3)\n",
      "Requirement already satisfied: pyparsing>=2.2.1 in c:\\users\\bling\\anaconda3\\envs\\task1.1\\lib\\site-packages (from matplotlib>=3.2.0->pandas_profiling) (3.0.4)\n",
      "Requirement already satisfied: python-dateutil>=2.7 in c:\\users\\bling\\anaconda3\\envs\\task1.1\\lib\\site-packages (from matplotlib>=3.2.0->pandas_profiling) (2.8.2)\n",
      "Requirement already satisfied: kiwisolver>=1.0.1 in c:\\users\\bling\\anaconda3\\envs\\task1.1\\lib\\site-packages (from matplotlib>=3.2.0->pandas_profiling) (1.4.2)\n",
      "Requirement already satisfied: cycler>=0.10 in c:\\users\\bling\\anaconda3\\envs\\task1.1\\lib\\site-packages (from matplotlib>=3.2.0->pandas_profiling) (0.11.0)\n",
      "Requirement already satisfied: pytz>=2020.1 in c:\\users\\bling\\anaconda3\\envs\\task1.1\\lib\\site-packages (from pandas!=1.0.0,!=1.0.1,!=1.0.2,!=1.1.0,>=0.25.3->pandas_profiling) (2022.1)\n",
      "Requirement already satisfied: typing-extensions>=3.7.4.3 in c:\\users\\bling\\anaconda3\\envs\\task1.1\\lib\\site-packages (from pydantic>=1.8.1->pandas_profiling) (4.1.1)\n",
      "Requirement already satisfied: charset-normalizer<3,>=2 in c:\\users\\bling\\anaconda3\\envs\\task1.1\\lib\\site-packages (from requests>=2.24.0->pandas_profiling) (2.1.0)\n",
      "Requirement already satisfied: idna<4,>=2.5 in c:\\users\\bling\\anaconda3\\envs\\task1.1\\lib\\site-packages (from requests>=2.24.0->pandas_profiling) (3.3)\n",
      "Requirement already satisfied: urllib3<1.27,>=1.21.1 in c:\\users\\bling\\anaconda3\\envs\\task1.1\\lib\\site-packages (from requests>=2.24.0->pandas_profiling) (1.26.10)\n",
      "Requirement already satisfied: certifi>=2017.4.17 in c:\\users\\bling\\anaconda3\\envs\\task1.1\\lib\\site-packages (from requests>=2.24.0->pandas_profiling) (2022.6.15)\n",
      "Requirement already satisfied: colorama in c:\\users\\bling\\anaconda3\\envs\\task1.1\\lib\\site-packages (from tqdm>=4.48.2->pandas_profiling) (0.4.5)\n",
      "Requirement already satisfied: six>=1.5 in c:\\users\\bling\\anaconda3\\envs\\task1.1\\lib\\site-packages (from python-dateutil>=2.7->matplotlib>=3.2.0->pandas_profiling) (1.16.0)\n",
      "Requirement already satisfied: PyWavelets in c:\\users\\bling\\anaconda3\\envs\\task1.1\\lib\\site-packages (from imagehash->visions[type_image_path]==0.7.4->pandas_profiling) (1.3.0)\n"
     ]
    }
   ],
   "source": [
    "!pip install pandas_profiling"
   ]
  },
  {
   "cell_type": "code",
   "execution_count": 3,
   "id": "610f79e4",
   "metadata": {},
   "outputs": [],
   "source": [
    "import pandas_profiling"
   ]
  },
  {
   "cell_type": "code",
   "execution_count": 4,
   "id": "652af60c",
   "metadata": {},
   "outputs": [
    {
     "name": "stdout",
     "output_type": "stream",
     "text": [
      "Requirement already satisfied: sklearn in c:\\users\\bling\\anaconda3\\envs\\task1.1\\lib\\site-packages (0.0)\n",
      "Requirement already satisfied: scikit-learn in c:\\users\\bling\\anaconda3\\envs\\task1.1\\lib\\site-packages (from sklearn) (1.0.2)\n",
      "Requirement already satisfied: joblib>=0.11 in c:\\users\\bling\\anaconda3\\envs\\task1.1\\lib\\site-packages (from scikit-learn->sklearn) (1.1.0)\n",
      "Requirement already satisfied: numpy>=1.14.6 in c:\\users\\bling\\anaconda3\\envs\\task1.1\\lib\\site-packages (from scikit-learn->sklearn) (1.22.3)\n",
      "Requirement already satisfied: scipy>=1.1.0 in c:\\users\\bling\\anaconda3\\envs\\task1.1\\lib\\site-packages (from scikit-learn->sklearn) (1.7.3)\n",
      "Requirement already satisfied: threadpoolctl>=2.0.0 in c:\\users\\bling\\anaconda3\\envs\\task1.1\\lib\\site-packages (from scikit-learn->sklearn) (2.2.0)\n"
     ]
    }
   ],
   "source": [
    "!pip install sklearn"
   ]
  },
  {
   "cell_type": "code",
   "execution_count": 5,
   "id": "42a98916",
   "metadata": {},
   "outputs": [],
   "source": [
    "from sklearn.model_selection import train_test_split\n",
    "from sklearn.metrics import accuracy_score, classification_report\n",
    "from sklearn.ensemble import RandomForestClassifier, GradientBoostingClassifier\n",
    "from sklearn.tree import DecisionTreeClassifier\n",
    "from sklearn.model_selection import cross_val_score"
   ]
  },
  {
   "cell_type": "code",
   "execution_count": 6,
   "id": "955638c7",
   "metadata": {},
   "outputs": [],
   "source": [
    "%matplotlib inline"
   ]
  },
  {
   "cell_type": "code",
   "execution_count": 7,
   "id": "d8061795",
   "metadata": {},
   "outputs": [
    {
     "data": {
      "text/html": [
       "<div>\n",
       "<style scoped>\n",
       "    .dataframe tbody tr th:only-of-type {\n",
       "        vertical-align: middle;\n",
       "    }\n",
       "\n",
       "    .dataframe tbody tr th {\n",
       "        vertical-align: top;\n",
       "    }\n",
       "\n",
       "    .dataframe thead th {\n",
       "        text-align: right;\n",
       "    }\n",
       "</style>\n",
       "<table border=\"1\" class=\"dataframe\">\n",
       "  <thead>\n",
       "    <tr style=\"text-align: right;\">\n",
       "      <th></th>\n",
       "      <th>in-store</th>\n",
       "      <th>age</th>\n",
       "      <th>items</th>\n",
       "      <th>amount</th>\n",
       "      <th>region</th>\n",
       "    </tr>\n",
       "  </thead>\n",
       "  <tbody>\n",
       "    <tr>\n",
       "      <th>0</th>\n",
       "      <td>0</td>\n",
       "      <td>37</td>\n",
       "      <td>4</td>\n",
       "      <td>281.03</td>\n",
       "      <td>2</td>\n",
       "    </tr>\n",
       "    <tr>\n",
       "      <th>1</th>\n",
       "      <td>0</td>\n",
       "      <td>35</td>\n",
       "      <td>2</td>\n",
       "      <td>219.51</td>\n",
       "      <td>2</td>\n",
       "    </tr>\n",
       "    <tr>\n",
       "      <th>2</th>\n",
       "      <td>1</td>\n",
       "      <td>45</td>\n",
       "      <td>3</td>\n",
       "      <td>1525.70</td>\n",
       "      <td>4</td>\n",
       "    </tr>\n",
       "    <tr>\n",
       "      <th>3</th>\n",
       "      <td>1</td>\n",
       "      <td>46</td>\n",
       "      <td>3</td>\n",
       "      <td>715.25</td>\n",
       "      <td>3</td>\n",
       "    </tr>\n",
       "    <tr>\n",
       "      <th>4</th>\n",
       "      <td>1</td>\n",
       "      <td>33</td>\n",
       "      <td>4</td>\n",
       "      <td>1937.50</td>\n",
       "      <td>1</td>\n",
       "    </tr>\n",
       "  </tbody>\n",
       "</table>\n",
       "</div>"
      ],
      "text/plain": [
       "   in-store  age  items   amount  region\n",
       "0         0   37      4   281.03       2\n",
       "1         0   35      2   219.51       2\n",
       "2         1   45      3  1525.70       4\n",
       "3         1   46      3   715.25       3\n",
       "4         1   33      4  1937.50       1"
      ]
     },
     "execution_count": 7,
     "metadata": {},
     "output_type": "execute_result"
    }
   ],
   "source": [
    "demo = pd.read_csv('Demographic_Data.csv')\n",
    "demo.head()"
   ]
  },
  {
   "cell_type": "code",
   "execution_count": 8,
   "id": "85e019f9",
   "metadata": {},
   "outputs": [
    {
     "name": "stdout",
     "output_type": "stream",
     "text": [
      "<class 'pandas.core.frame.DataFrame'>\n",
      "RangeIndex: 80000 entries, 0 to 79999\n",
      "Data columns (total 5 columns):\n",
      " #   Column    Non-Null Count  Dtype  \n",
      "---  ------    --------------  -----  \n",
      " 0   in-store  80000 non-null  int64  \n",
      " 1   age       80000 non-null  int64  \n",
      " 2   items     80000 non-null  int64  \n",
      " 3   amount    80000 non-null  float64\n",
      " 4   region    80000 non-null  int64  \n",
      "dtypes: float64(1), int64(4)\n",
      "memory usage: 3.1 MB\n"
     ]
    }
   ],
   "source": [
    "demo.info()"
   ]
  },
  {
   "cell_type": "code",
   "execution_count": 9,
   "id": "e0ed3711",
   "metadata": {},
   "outputs": [
    {
     "name": "stdout",
     "output_type": "stream",
     "text": [
      "in-store    0\n",
      "age         0\n",
      "items       0\n",
      "amount      0\n",
      "region      0\n",
      "dtype: int64\n"
     ]
    }
   ],
   "source": [
    "demo = demo.drop_duplicates()\n",
    "print(demo.isnull().sum())\n"
   ]
  },
  {
   "cell_type": "code",
   "execution_count": 10,
   "id": "1f9e0928",
   "metadata": {},
   "outputs": [
    {
     "name": "stdout",
     "output_type": "stream",
     "text": [
      "<class 'pandas.core.frame.DataFrame'>\n",
      "Int64Index: 79979 entries, 0 to 79999\n",
      "Data columns (total 5 columns):\n",
      " #   Column    Non-Null Count  Dtype  \n",
      "---  ------    --------------  -----  \n",
      " 0   in-store  79979 non-null  int64  \n",
      " 1   age       79979 non-null  int64  \n",
      " 2   items     79979 non-null  int64  \n",
      " 3   amount    79979 non-null  float64\n",
      " 4   region    79979 non-null  int64  \n",
      "dtypes: float64(1), int64(4)\n",
      "memory usage: 3.7 MB\n"
     ]
    }
   ],
   "source": [
    "demo.info()"
   ]
  },
  {
   "cell_type": "code",
   "execution_count": 11,
   "id": "85bdae82",
   "metadata": {},
   "outputs": [],
   "source": [
    "from sklearn.datasets import load_digits\n"
   ]
  },
  {
   "cell_type": "code",
   "execution_count": 20,
   "id": "90bca416",
   "metadata": {},
   "outputs": [],
   "source": [
    "Age = demo['age']"
   ]
  },
  {
   "cell_type": "code",
   "execution_count": 32,
   "id": "491815c4",
   "metadata": {},
   "outputs": [
    {
     "name": "stdout",
     "output_type": "stream",
     "text": [
      "Summary of Age sample\n"
     ]
    },
    {
     "data": {
      "text/html": [
       "<div>\n",
       "<style scoped>\n",
       "    .dataframe tbody tr th:only-of-type {\n",
       "        vertical-align: middle;\n",
       "    }\n",
       "\n",
       "    .dataframe tbody tr th {\n",
       "        vertical-align: top;\n",
       "    }\n",
       "\n",
       "    .dataframe thead th {\n",
       "        text-align: right;\n",
       "    }\n",
       "</style>\n",
       "<table border=\"1\" class=\"dataframe\">\n",
       "  <thead>\n",
       "    <tr style=\"text-align: right;\">\n",
       "      <th></th>\n",
       "      <th>in-store</th>\n",
       "      <th>age</th>\n",
       "      <th>items</th>\n",
       "      <th>amount</th>\n",
       "    </tr>\n",
       "  </thead>\n",
       "  <tbody>\n",
       "    <tr>\n",
       "      <th>0</th>\n",
       "      <td>0</td>\n",
       "      <td>37</td>\n",
       "      <td>4</td>\n",
       "      <td>281.03</td>\n",
       "    </tr>\n",
       "    <tr>\n",
       "      <th>1</th>\n",
       "      <td>0</td>\n",
       "      <td>35</td>\n",
       "      <td>2</td>\n",
       "      <td>219.51</td>\n",
       "    </tr>\n",
       "    <tr>\n",
       "      <th>2</th>\n",
       "      <td>1</td>\n",
       "      <td>45</td>\n",
       "      <td>3</td>\n",
       "      <td>1525.70</td>\n",
       "    </tr>\n",
       "    <tr>\n",
       "      <th>3</th>\n",
       "      <td>1</td>\n",
       "      <td>46</td>\n",
       "      <td>3</td>\n",
       "      <td>715.25</td>\n",
       "    </tr>\n",
       "    <tr>\n",
       "      <th>4</th>\n",
       "      <td>1</td>\n",
       "      <td>33</td>\n",
       "      <td>4</td>\n",
       "      <td>1937.50</td>\n",
       "    </tr>\n",
       "  </tbody>\n",
       "</table>\n",
       "</div>"
      ],
      "text/plain": [
       "   in-store  age  items   amount\n",
       "0         0   37      4   281.03\n",
       "1         0   35      2   219.51\n",
       "2         1   45      3  1525.70\n",
       "3         1   46      3   715.25\n",
       "4         1   33      4  1937.50"
      ]
     },
     "execution_count": 32,
     "metadata": {},
     "output_type": "execute_result"
    }
   ],
   "source": [
    "Age = demo.iloc[:,0:4]\n",
    "print('Summary of Age sample')\n",
    "Age.head()"
   ]
  },
  {
   "cell_type": "code",
   "execution_count": 33,
   "id": "beae435d",
   "metadata": {},
   "outputs": [],
   "source": [
    "y = demo['region']"
   ]
  },
  {
   "cell_type": "code",
   "execution_count": null,
   "id": "5404e468",
   "metadata": {},
   "outputs": [],
   "source": []
  }
 ],
 "metadata": {
  "kernelspec": {
   "display_name": "Python 3 (ipykernel)",
   "language": "python",
   "name": "python3"
  },
  "language_info": {
   "codemirror_mode": {
    "name": "ipython",
    "version": 3
   },
   "file_extension": ".py",
   "mimetype": "text/x-python",
   "name": "python",
   "nbconvert_exporter": "python",
   "pygments_lexer": "ipython3",
   "version": "3.10.4"
  }
 },
 "nbformat": 4,
 "nbformat_minor": 5
}
