{
 "cells": [
  {
   "cell_type": "code",
   "execution_count": 1,
   "id": "01dca583",
   "metadata": {},
   "outputs": [],
   "source": [
    "import numpy as np\n",
    "import pandas as pd\n",
    "import matplotlib.pyplot as plt\n",
    "import seaborn as sns"
   ]
  },
  {
   "cell_type": "code",
   "execution_count": 2,
   "id": "610f79e4",
   "metadata": {},
   "outputs": [],
   "source": [
    "import pandas_profiling"
   ]
  },
  {
   "cell_type": "code",
   "execution_count": 3,
   "id": "652af60c",
   "metadata": {},
   "outputs": [
    {
     "name": "stdout",
     "output_type": "stream",
     "text": [
      "Requirement already satisfied: sklearn in c:\\users\\bling\\anaconda3\\envs\\task1.1\\lib\\site-packages (0.0)\n",
      "Requirement already satisfied: scikit-learn in c:\\users\\bling\\anaconda3\\envs\\task1.1\\lib\\site-packages (from sklearn) (1.0.2)\n",
      "Requirement already satisfied: threadpoolctl>=2.0.0 in c:\\users\\bling\\anaconda3\\envs\\task1.1\\lib\\site-packages (from scikit-learn->sklearn) (2.2.0)\n",
      "Requirement already satisfied: joblib>=0.11 in c:\\users\\bling\\anaconda3\\envs\\task1.1\\lib\\site-packages (from scikit-learn->sklearn) (1.1.0)\n",
      "Requirement already satisfied: scipy>=1.1.0 in c:\\users\\bling\\anaconda3\\envs\\task1.1\\lib\\site-packages (from scikit-learn->sklearn) (1.7.3)\n",
      "Requirement already satisfied: numpy>=1.14.6 in c:\\users\\bling\\anaconda3\\envs\\task1.1\\lib\\site-packages (from scikit-learn->sklearn) (1.22.3)\n"
     ]
    }
   ],
   "source": [
    "!pip install sklearn"
   ]
  },
  {
   "cell_type": "code",
   "execution_count": 4,
   "id": "42a98916",
   "metadata": {},
   "outputs": [],
   "source": [
    "from sklearn.model_selection import train_test_split\n",
    "from sklearn.metrics import accuracy_score, classification_report\n",
    "from sklearn.ensemble import RandomForestClassifier, GradientBoostingClassifier\n",
    "from sklearn.tree import DecisionTreeClassifier\n",
    "from sklearn.model_selection import cross_val_score\n",
    "from sklearn.ensemble import AdaBoostClassifier\n"
   ]
  },
  {
   "cell_type": "code",
   "execution_count": 5,
   "id": "955638c7",
   "metadata": {},
   "outputs": [],
   "source": [
    "%matplotlib inline"
   ]
  },
  {
   "cell_type": "code",
   "execution_count": 6,
   "id": "d8061795",
   "metadata": {},
   "outputs": [
    {
     "data": {
      "text/html": [
       "<div>\n",
       "<style scoped>\n",
       "    .dataframe tbody tr th:only-of-type {\n",
       "        vertical-align: middle;\n",
       "    }\n",
       "\n",
       "    .dataframe tbody tr th {\n",
       "        vertical-align: top;\n",
       "    }\n",
       "\n",
       "    .dataframe thead th {\n",
       "        text-align: right;\n",
       "    }\n",
       "</style>\n",
       "<table border=\"1\" class=\"dataframe\">\n",
       "  <thead>\n",
       "    <tr style=\"text-align: right;\">\n",
       "      <th></th>\n",
       "      <th>in-store</th>\n",
       "      <th>age</th>\n",
       "      <th>items</th>\n",
       "      <th>amount</th>\n",
       "      <th>region</th>\n",
       "    </tr>\n",
       "  </thead>\n",
       "  <tbody>\n",
       "    <tr>\n",
       "      <th>0</th>\n",
       "      <td>0</td>\n",
       "      <td>37</td>\n",
       "      <td>4</td>\n",
       "      <td>281.03</td>\n",
       "      <td>2</td>\n",
       "    </tr>\n",
       "    <tr>\n",
       "      <th>1</th>\n",
       "      <td>0</td>\n",
       "      <td>35</td>\n",
       "      <td>2</td>\n",
       "      <td>219.51</td>\n",
       "      <td>2</td>\n",
       "    </tr>\n",
       "    <tr>\n",
       "      <th>2</th>\n",
       "      <td>1</td>\n",
       "      <td>45</td>\n",
       "      <td>3</td>\n",
       "      <td>1525.70</td>\n",
       "      <td>4</td>\n",
       "    </tr>\n",
       "    <tr>\n",
       "      <th>3</th>\n",
       "      <td>1</td>\n",
       "      <td>46</td>\n",
       "      <td>3</td>\n",
       "      <td>715.25</td>\n",
       "      <td>3</td>\n",
       "    </tr>\n",
       "    <tr>\n",
       "      <th>4</th>\n",
       "      <td>1</td>\n",
       "      <td>33</td>\n",
       "      <td>4</td>\n",
       "      <td>1937.50</td>\n",
       "      <td>1</td>\n",
       "    </tr>\n",
       "  </tbody>\n",
       "</table>\n",
       "</div>"
      ],
      "text/plain": [
       "   in-store  age  items   amount  region\n",
       "0         0   37      4   281.03       2\n",
       "1         0   35      2   219.51       2\n",
       "2         1   45      3  1525.70       4\n",
       "3         1   46      3   715.25       3\n",
       "4         1   33      4  1937.50       1"
      ]
     },
     "execution_count": 6,
     "metadata": {},
     "output_type": "execute_result"
    }
   ],
   "source": [
    "demo = pd.read_csv('Demographic_Data.csv')\n",
    "demo.head()"
   ]
  },
  {
   "cell_type": "code",
   "execution_count": 7,
   "id": "85e019f9",
   "metadata": {},
   "outputs": [
    {
     "name": "stdout",
     "output_type": "stream",
     "text": [
      "<class 'pandas.core.frame.DataFrame'>\n",
      "RangeIndex: 80000 entries, 0 to 79999\n",
      "Data columns (total 5 columns):\n",
      " #   Column    Non-Null Count  Dtype  \n",
      "---  ------    --------------  -----  \n",
      " 0   in-store  80000 non-null  int64  \n",
      " 1   age       80000 non-null  int64  \n",
      " 2   items     80000 non-null  int64  \n",
      " 3   amount    80000 non-null  float64\n",
      " 4   region    80000 non-null  int64  \n",
      "dtypes: float64(1), int64(4)\n",
      "memory usage: 3.1 MB\n"
     ]
    }
   ],
   "source": [
    "demo.info()"
   ]
  },
  {
   "cell_type": "code",
   "execution_count": 8,
   "id": "e0ed3711",
   "metadata": {},
   "outputs": [
    {
     "name": "stdout",
     "output_type": "stream",
     "text": [
      "in-store    0\n",
      "age         0\n",
      "items       0\n",
      "amount      0\n",
      "region      0\n",
      "dtype: int64\n"
     ]
    }
   ],
   "source": [
    "demo = demo.drop_duplicates()\n",
    "print(demo.isnull().sum())\n"
   ]
  },
  {
   "cell_type": "code",
   "execution_count": 9,
   "id": "1f9e0928",
   "metadata": {},
   "outputs": [
    {
     "name": "stdout",
     "output_type": "stream",
     "text": [
      "<class 'pandas.core.frame.DataFrame'>\n",
      "Int64Index: 79979 entries, 0 to 79999\n",
      "Data columns (total 5 columns):\n",
      " #   Column    Non-Null Count  Dtype  \n",
      "---  ------    --------------  -----  \n",
      " 0   in-store  79979 non-null  int64  \n",
      " 1   age       79979 non-null  int64  \n",
      " 2   items     79979 non-null  int64  \n",
      " 3   amount    79979 non-null  float64\n",
      " 4   region    79979 non-null  int64  \n",
      "dtypes: float64(1), int64(4)\n",
      "memory usage: 3.7 MB\n"
     ]
    }
   ],
   "source": [
    "demo.info()"
   ]
  },
  {
   "cell_type": "code",
   "execution_count": 10,
   "id": "85bdae82",
   "metadata": {},
   "outputs": [],
   "source": [
    "from sklearn.datasets import load_digits\n"
   ]
  },
  {
   "cell_type": "code",
   "execution_count": 11,
   "id": "90bca416",
   "metadata": {},
   "outputs": [],
   "source": [
    "Age = demo['age']"
   ]
  },
  {
   "cell_type": "code",
   "execution_count": 12,
   "id": "491815c4",
   "metadata": {},
   "outputs": [
    {
     "name": "stdout",
     "output_type": "stream",
     "text": [
      "Summary of Age sample\n"
     ]
    },
    {
     "data": {
      "text/html": [
       "<div>\n",
       "<style scoped>\n",
       "    .dataframe tbody tr th:only-of-type {\n",
       "        vertical-align: middle;\n",
       "    }\n",
       "\n",
       "    .dataframe tbody tr th {\n",
       "        vertical-align: top;\n",
       "    }\n",
       "\n",
       "    .dataframe thead th {\n",
       "        text-align: right;\n",
       "    }\n",
       "</style>\n",
       "<table border=\"1\" class=\"dataframe\">\n",
       "  <thead>\n",
       "    <tr style=\"text-align: right;\">\n",
       "      <th></th>\n",
       "      <th>in-store</th>\n",
       "      <th>age</th>\n",
       "      <th>items</th>\n",
       "      <th>amount</th>\n",
       "    </tr>\n",
       "  </thead>\n",
       "  <tbody>\n",
       "    <tr>\n",
       "      <th>0</th>\n",
       "      <td>0</td>\n",
       "      <td>37</td>\n",
       "      <td>4</td>\n",
       "      <td>281.03</td>\n",
       "    </tr>\n",
       "    <tr>\n",
       "      <th>1</th>\n",
       "      <td>0</td>\n",
       "      <td>35</td>\n",
       "      <td>2</td>\n",
       "      <td>219.51</td>\n",
       "    </tr>\n",
       "    <tr>\n",
       "      <th>2</th>\n",
       "      <td>1</td>\n",
       "      <td>45</td>\n",
       "      <td>3</td>\n",
       "      <td>1525.70</td>\n",
       "    </tr>\n",
       "    <tr>\n",
       "      <th>3</th>\n",
       "      <td>1</td>\n",
       "      <td>46</td>\n",
       "      <td>3</td>\n",
       "      <td>715.25</td>\n",
       "    </tr>\n",
       "    <tr>\n",
       "      <th>4</th>\n",
       "      <td>1</td>\n",
       "      <td>33</td>\n",
       "      <td>4</td>\n",
       "      <td>1937.50</td>\n",
       "    </tr>\n",
       "  </tbody>\n",
       "</table>\n",
       "</div>"
      ],
      "text/plain": [
       "   in-store  age  items   amount\n",
       "0         0   37      4   281.03\n",
       "1         0   35      2   219.51\n",
       "2         1   45      3  1525.70\n",
       "3         1   46      3   715.25\n",
       "4         1   33      4  1937.50"
      ]
     },
     "execution_count": 12,
     "metadata": {},
     "output_type": "execute_result"
    }
   ],
   "source": [
    "Age = demo.iloc[:,0:4]\n",
    "print('Summary of Age sample')\n",
    "Age.head()"
   ]
  },
  {
   "cell_type": "code",
   "execution_count": 13,
   "id": "beae435d",
   "metadata": {},
   "outputs": [],
   "source": [
    "y = demo['region']\n",
    "x = demo[['age']]"
   ]
  },
  {
   "cell_type": "code",
   "execution_count": 14,
   "id": "5404e468",
   "metadata": {},
   "outputs": [
    {
     "name": "stdout",
     "output_type": "stream",
     "text": [
      "(1797, 64)\n"
     ]
    }
   ],
   "source": [
    "digits = load_digits()\n",
    "print(digits.data.shape)"
   ]
  },
  {
   "cell_type": "code",
   "execution_count": 15,
   "id": "a2b88c9e",
   "metadata": {},
   "outputs": [
    {
     "data": {
      "text/plain": [
       "array([0, 1, 2, ..., 8, 9, 8])"
      ]
     },
     "execution_count": 15,
     "metadata": {},
     "output_type": "execute_result"
    }
   ],
   "source": [
    "digits.target"
   ]
  },
  {
   "cell_type": "code",
   "execution_count": 16,
   "id": "16996db9",
   "metadata": {},
   "outputs": [],
   "source": [
    "x_train, x_test, y_train, y_test = train_test_split(x, y, test_size = .30, random_state = 123)"
   ]
  },
  {
   "cell_type": "code",
   "execution_count": 17,
   "id": "0a09ec7c",
   "metadata": {},
   "outputs": [],
   "source": [
    "algo = DecisionTreeClassifier()\n",
    "\n",
    "\n"
   ]
  },
  {
   "cell_type": "code",
   "execution_count": 18,
   "id": "92a4594b",
   "metadata": {},
   "outputs": [],
   "source": [
    "model = algo.fit(x_train,y_train)"
   ]
  },
  {
   "cell_type": "code",
   "execution_count": 19,
   "id": "0b5f0d43",
   "metadata": {},
   "outputs": [],
   "source": [
    "preds = model.predict(x_test)"
   ]
  },
  {
   "cell_type": "code",
   "execution_count": 20,
   "id": "3f01407e",
   "metadata": {},
   "outputs": [
    {
     "name": "stdout",
     "output_type": "stream",
     "text": [
      "              precision    recall  f1-score   support\n",
      "\n",
      "           1       0.00      0.00      0.00      4838\n",
      "           2       0.57      0.44      0.50      5979\n",
      "           3       0.32      0.10      0.16      5391\n",
      "           4       0.41      0.92      0.56      7786\n",
      "\n",
      "    accuracy                           0.43     23994\n",
      "   macro avg       0.32      0.37      0.30     23994\n",
      "weighted avg       0.35      0.43      0.34     23994\n",
      "\n"
     ]
    },
    {
     "name": "stderr",
     "output_type": "stream",
     "text": [
      "C:\\Users\\bling\\anaconda3\\envs\\task1.1\\lib\\site-packages\\sklearn\\metrics\\_classification.py:1318: UndefinedMetricWarning: Precision and F-score are ill-defined and being set to 0.0 in labels with no predicted samples. Use `zero_division` parameter to control this behavior.\n",
      "  _warn_prf(average, modifier, msg_start, len(result))\n",
      "C:\\Users\\bling\\anaconda3\\envs\\task1.1\\lib\\site-packages\\sklearn\\metrics\\_classification.py:1318: UndefinedMetricWarning: Precision and F-score are ill-defined and being set to 0.0 in labels with no predicted samples. Use `zero_division` parameter to control this behavior.\n",
      "  _warn_prf(average, modifier, msg_start, len(result))\n",
      "C:\\Users\\bling\\anaconda3\\envs\\task1.1\\lib\\site-packages\\sklearn\\metrics\\_classification.py:1318: UndefinedMetricWarning: Precision and F-score are ill-defined and being set to 0.0 in labels with no predicted samples. Use `zero_division` parameter to control this behavior.\n",
      "  _warn_prf(average, modifier, msg_start, len(result))\n"
     ]
    }
   ],
   "source": [
    "print(classification_report(y_test, preds))"
   ]
  },
  {
   "cell_type": "code",
   "execution_count": 21,
   "id": "e2dd9c4b",
   "metadata": {},
   "outputs": [],
   "source": [
    "from sklearn.tree import plot_tree"
   ]
  },
  {
   "cell_type": "code",
   "execution_count": 22,
   "id": "8044e8ef",
   "metadata": {
    "scrolled": true
   },
   "outputs": [
    {
     "data": {
      "image/png": "[encoded data removed]",
      "text/plain": [
       "<Figure size 1800x1440 with 1 Axes>"
      ]
     },
     "metadata": {
      "needs_background": "light"
     },
     "output_type": "display_data"
    }
   ],
   "source": [
    "fig = plt.figure(figsize=(25,20))\n",
    "tree = plot_tree(model, feature_names=x.columns,class_names=['0', '1', '2', '3'], filled=True)"
   ]
  },
  {
   "cell_type": "code",
   "execution_count": 23,
   "id": "9c746053",
   "metadata": {},
   "outputs": [
    {
     "data": {
      "text/plain": [
       "<bound method NDFrame.describe of 0        37\n",
       "1        35\n",
       "2        45\n",
       "3        46\n",
       "4        33\n",
       "         ..\n",
       "79995    71\n",
       "79996    59\n",
       "79997    54\n",
       "79998    49\n",
       "79999    30\n",
       "Name: age, Length: 79979, dtype: int64>"
      ]
     },
     "execution_count": 23,
     "metadata": {},
     "output_type": "execute_result"
    }
   ],
   "source": [
    "demo['age'].describe"
   ]
  },
  {
   "cell_type": "code",
   "execution_count": 24,
   "id": "fedc94f2",
   "metadata": {},
   "outputs": [
    {
     "data": {
      "text/plain": [
       "0        (33.0, 39.0]\n",
       "1        (33.0, 39.0]\n",
       "2        (39.0, 45.0]\n",
       "3        (45.0, 50.0]\n",
       "4        (27.0, 33.0]\n",
       "             ...     \n",
       "79995    (66.0, 85.0]\n",
       "79996    (56.0, 66.0]\n",
       "79997    (50.0, 56.0]\n",
       "79998    (45.0, 50.0]\n",
       "79999    (27.0, 33.0]\n",
       "Name: age, Length: 79979, dtype: category\n",
       "Categories (8, interval[float64, right]): [(17.999, 27.0] < (27.0, 33.0] < (33.0, 39.0] < (39.0, 45.0] < (45.0, 50.0] < (50.0, 56.0] < (56.0, 66.0] < (66.0, 85.0]]"
      ]
     },
     "execution_count": 24,
     "metadata": {},
     "output_type": "execute_result"
    }
   ],
   "source": [
    "#reference https://pbpython.com/pandas-qcut-cut.html\n",
    "\n",
    "pd.qcut(demo['age'], q=8)"
   ]
  },
  {
   "cell_type": "code",
   "execution_count": 25,
   "id": "e101a386",
   "metadata": {},
   "outputs": [
    {
     "data": {
      "text/plain": [
       "(33.0, 39.0]      10531\n",
       "(39.0, 45.0]      10483\n",
       "(27.0, 33.0]      10438\n",
       "(56.0, 66.0]      10378\n",
       "(17.999, 27.0]    10225\n",
       "(50.0, 56.0]       9669\n",
       "(66.0, 85.0]       9451\n",
       "(45.0, 50.0]       8804\n",
       "Name: age, dtype: int64"
      ]
     },
     "execution_count": 25,
     "metadata": {},
     "output_type": "execute_result"
    }
   ],
   "source": [
    "pd.qcut(demo['age'], q=8).value_counts()"
   ]
  },
  {
   "cell_type": "code",
   "execution_count": 26,
   "id": "6a5d1a68",
   "metadata": {},
   "outputs": [
    {
     "data": {
      "text/plain": [
       "53    1829\n",
       "32    1788\n",
       "42    1784\n",
       "36    1784\n",
       "34    1783\n",
       "      ... \n",
       "75     334\n",
       "76     327\n",
       "79     320\n",
       "18     223\n",
       "85     185\n",
       "Name: age, Length: 68, dtype: int64"
      ]
     },
     "execution_count": 26,
     "metadata": {},
     "output_type": "execute_result"
    }
   ],
   "source": [
    "demo['age'].value_counts()"
   ]
  },
  {
   "cell_type": "code",
   "execution_count": 27,
   "id": "8c2adb24",
   "metadata": {},
   "outputs": [
    {
     "data": {
      "text/plain": [
       "0        (34.75, 43.125]\n",
       "1        (34.75, 43.125]\n",
       "2         (43.125, 51.5]\n",
       "3         (43.125, 51.5]\n",
       "4        (26.375, 34.75]\n",
       "              ...       \n",
       "79995    (68.25, 76.625]\n",
       "79996     (51.5, 59.875]\n",
       "79997     (51.5, 59.875]\n",
       "79998     (43.125, 51.5]\n",
       "79999    (26.375, 34.75]\n",
       "Name: age, Length: 79979, dtype: category\n",
       "Categories (8, interval[float64, right]): [(17.933, 26.375] < (26.375, 34.75] < (34.75, 43.125] < (43.125, 51.5] < (51.5, 59.875] < (59.875, 68.25] < (68.25, 76.625] < (76.625, 85.0]]"
      ]
     },
     "execution_count": 27,
     "metadata": {},
     "output_type": "execute_result"
    }
   ],
   "source": [
    "pd.cut(demo['age'], bins=8)"
   ]
  },
  {
   "cell_type": "code",
   "execution_count": 28,
   "id": "a1f19555",
   "metadata": {},
   "outputs": [
    {
     "data": {
      "text/plain": [
       "(34.75, 43.125]     15742\n",
       "(43.125, 51.5]      13973\n",
       "(26.375, 34.75]     13587\n",
       "(51.5, 59.875]      11568\n",
       "(17.933, 26.375]     8859\n",
       "(59.875, 68.25]      8278\n",
       "(68.25, 76.625]      4882\n",
       "(76.625, 85.0]       3090\n",
       "Name: age, dtype: int64"
      ]
     },
     "execution_count": 28,
     "metadata": {},
     "output_type": "execute_result"
    }
   ],
   "source": [
    "pd.cut(demo['age'], bins=8).value_counts()"
   ]
  },
  {
   "cell_type": "code",
   "execution_count": 29,
   "id": "aeed0583",
   "metadata": {
    "scrolled": true
   },
   "outputs": [
    {
     "name": "stdout",
     "output_type": "stream",
     "text": [
      "<class 'pandas.core.frame.DataFrame'>\n",
      "Int64Index: 79979 entries, 0 to 79999\n",
      "Data columns (total 6 columns):\n",
      " #   Column    Non-Null Count  Dtype  \n",
      "---  ------    --------------  -----  \n",
      " 0   in-store  79979 non-null  int64  \n",
      " 1   age       79979 non-null  int64  \n",
      " 2   items     79979 non-null  int64  \n",
      " 3   amount    79979 non-null  float64\n",
      " 4   region    79979 non-null  int64  \n",
      " 5   cut_age   79979 non-null  int64  \n",
      "dtypes: float64(1), int64(5)\n",
      "memory usage: 4.3 MB\n"
     ]
    }
   ],
   "source": [
    "cut_labels_9 = ['10s','20s','30s','40s','50s','60s','70s','80s','90s']\n",
    "cut_bins= [1,9, 19, 29, 39, 49, 59, 69, 79, 89]\n",
    "demo['cut_age'] = pd.cut(demo['age'], bins=cut_bins, labels=False)\n",
    "demo.info() #verify Dyype is numeric\n"
   ]
  },
  {
   "cell_type": "code",
   "execution_count": 30,
   "id": "6147ad7e",
   "metadata": {},
   "outputs": [
    {
     "data": {
      "text/html": [
       "<div>\n",
       "<style scoped>\n",
       "    .dataframe tbody tr th:only-of-type {\n",
       "        vertical-align: middle;\n",
       "    }\n",
       "\n",
       "    .dataframe tbody tr th {\n",
       "        vertical-align: top;\n",
       "    }\n",
       "\n",
       "    .dataframe thead th {\n",
       "        text-align: right;\n",
       "    }\n",
       "</style>\n",
       "<table border=\"1\" class=\"dataframe\">\n",
       "  <thead>\n",
       "    <tr style=\"text-align: right;\">\n",
       "      <th></th>\n",
       "      <th>in-store</th>\n",
       "      <th>age</th>\n",
       "      <th>items</th>\n",
       "      <th>amount</th>\n",
       "      <th>region</th>\n",
       "      <th>cut_age</th>\n",
       "    </tr>\n",
       "  </thead>\n",
       "  <tbody>\n",
       "    <tr>\n",
       "      <th>0</th>\n",
       "      <td>0</td>\n",
       "      <td>37</td>\n",
       "      <td>4</td>\n",
       "      <td>281.0300</td>\n",
       "      <td>2</td>\n",
       "      <td>3</td>\n",
       "    </tr>\n",
       "    <tr>\n",
       "      <th>1</th>\n",
       "      <td>0</td>\n",
       "      <td>35</td>\n",
       "      <td>2</td>\n",
       "      <td>219.5100</td>\n",
       "      <td>2</td>\n",
       "      <td>3</td>\n",
       "    </tr>\n",
       "    <tr>\n",
       "      <th>2</th>\n",
       "      <td>1</td>\n",
       "      <td>45</td>\n",
       "      <td>3</td>\n",
       "      <td>1525.7000</td>\n",
       "      <td>4</td>\n",
       "      <td>4</td>\n",
       "    </tr>\n",
       "    <tr>\n",
       "      <th>3</th>\n",
       "      <td>1</td>\n",
       "      <td>46</td>\n",
       "      <td>3</td>\n",
       "      <td>715.2500</td>\n",
       "      <td>3</td>\n",
       "      <td>4</td>\n",
       "    </tr>\n",
       "    <tr>\n",
       "      <th>4</th>\n",
       "      <td>1</td>\n",
       "      <td>33</td>\n",
       "      <td>4</td>\n",
       "      <td>1937.5000</td>\n",
       "      <td>1</td>\n",
       "      <td>3</td>\n",
       "    </tr>\n",
       "    <tr>\n",
       "      <th>5</th>\n",
       "      <td>0</td>\n",
       "      <td>24</td>\n",
       "      <td>3</td>\n",
       "      <td>1314.2000</td>\n",
       "      <td>4</td>\n",
       "      <td>2</td>\n",
       "    </tr>\n",
       "    <tr>\n",
       "      <th>6</th>\n",
       "      <td>0</td>\n",
       "      <td>43</td>\n",
       "      <td>6</td>\n",
       "      <td>8.5472</td>\n",
       "      <td>2</td>\n",
       "      <td>4</td>\n",
       "    </tr>\n",
       "    <tr>\n",
       "      <th>7</th>\n",
       "      <td>1</td>\n",
       "      <td>66</td>\n",
       "      <td>5</td>\n",
       "      <td>819.9800</td>\n",
       "      <td>3</td>\n",
       "      <td>6</td>\n",
       "    </tr>\n",
       "    <tr>\n",
       "      <th>8</th>\n",
       "      <td>1</td>\n",
       "      <td>51</td>\n",
       "      <td>5</td>\n",
       "      <td>908.3100</td>\n",
       "      <td>1</td>\n",
       "      <td>5</td>\n",
       "    </tr>\n",
       "    <tr>\n",
       "      <th>9</th>\n",
       "      <td>1</td>\n",
       "      <td>47</td>\n",
       "      <td>3</td>\n",
       "      <td>767.5400</td>\n",
       "      <td>1</td>\n",
       "      <td>4</td>\n",
       "    </tr>\n",
       "    <tr>\n",
       "      <th>10</th>\n",
       "      <td>1</td>\n",
       "      <td>44</td>\n",
       "      <td>5</td>\n",
       "      <td>122.3900</td>\n",
       "      <td>3</td>\n",
       "      <td>4</td>\n",
       "    </tr>\n",
       "    <tr>\n",
       "      <th>11</th>\n",
       "      <td>1</td>\n",
       "      <td>33</td>\n",
       "      <td>2</td>\n",
       "      <td>684.3200</td>\n",
       "      <td>1</td>\n",
       "      <td>3</td>\n",
       "    </tr>\n",
       "    <tr>\n",
       "      <th>12</th>\n",
       "      <td>0</td>\n",
       "      <td>32</td>\n",
       "      <td>2</td>\n",
       "      <td>58.9970</td>\n",
       "      <td>2</td>\n",
       "      <td>3</td>\n",
       "    </tr>\n",
       "    <tr>\n",
       "      <th>13</th>\n",
       "      <td>1</td>\n",
       "      <td>48</td>\n",
       "      <td>7</td>\n",
       "      <td>529.5700</td>\n",
       "      <td>3</td>\n",
       "      <td>4</td>\n",
       "    </tr>\n",
       "    <tr>\n",
       "      <th>14</th>\n",
       "      <td>1</td>\n",
       "      <td>34</td>\n",
       "      <td>6</td>\n",
       "      <td>270.4900</td>\n",
       "      <td>4</td>\n",
       "      <td>3</td>\n",
       "    </tr>\n",
       "    <tr>\n",
       "      <th>15</th>\n",
       "      <td>0</td>\n",
       "      <td>43</td>\n",
       "      <td>7</td>\n",
       "      <td>1585.1000</td>\n",
       "      <td>3</td>\n",
       "      <td>4</td>\n",
       "    </tr>\n",
       "    <tr>\n",
       "      <th>16</th>\n",
       "      <td>1</td>\n",
       "      <td>20</td>\n",
       "      <td>7</td>\n",
       "      <td>1901.3000</td>\n",
       "      <td>1</td>\n",
       "      <td>2</td>\n",
       "    </tr>\n",
       "    <tr>\n",
       "      <th>17</th>\n",
       "      <td>1</td>\n",
       "      <td>43</td>\n",
       "      <td>4</td>\n",
       "      <td>165.4800</td>\n",
       "      <td>3</td>\n",
       "      <td>4</td>\n",
       "    </tr>\n",
       "    <tr>\n",
       "      <th>18</th>\n",
       "      <td>0</td>\n",
       "      <td>35</td>\n",
       "      <td>2</td>\n",
       "      <td>2791.6000</td>\n",
       "      <td>4</td>\n",
       "      <td>3</td>\n",
       "    </tr>\n",
       "    <tr>\n",
       "      <th>19</th>\n",
       "      <td>0</td>\n",
       "      <td>58</td>\n",
       "      <td>7</td>\n",
       "      <td>1225.8000</td>\n",
       "      <td>4</td>\n",
       "      <td>5</td>\n",
       "    </tr>\n",
       "  </tbody>\n",
       "</table>\n",
       "</div>"
      ],
      "text/plain": [
       "    in-store  age  items     amount  region  cut_age\n",
       "0          0   37      4   281.0300       2        3\n",
       "1          0   35      2   219.5100       2        3\n",
       "2          1   45      3  1525.7000       4        4\n",
       "3          1   46      3   715.2500       3        4\n",
       "4          1   33      4  1937.5000       1        3\n",
       "5          0   24      3  1314.2000       4        2\n",
       "6          0   43      6     8.5472       2        4\n",
       "7          1   66      5   819.9800       3        6\n",
       "8          1   51      5   908.3100       1        5\n",
       "9          1   47      3   767.5400       1        4\n",
       "10         1   44      5   122.3900       3        4\n",
       "11         1   33      2   684.3200       1        3\n",
       "12         0   32      2    58.9970       2        3\n",
       "13         1   48      7   529.5700       3        4\n",
       "14         1   34      6   270.4900       4        3\n",
       "15         0   43      7  1585.1000       3        4\n",
       "16         1   20      7  1901.3000       1        2\n",
       "17         1   43      4   165.4800       3        4\n",
       "18         0   35      2  2791.6000       4        3\n",
       "19         0   58      7  1225.8000       4        5"
      ]
     },
     "execution_count": 30,
     "metadata": {},
     "output_type": "execute_result"
    }
   ],
   "source": [
    "demo.head(20)"
   ]
  },
  {
   "cell_type": "code",
   "execution_count": 31,
   "id": "1bc411ee",
   "metadata": {
    "scrolled": true
   },
   "outputs": [
    {
     "data": {
      "text/plain": [
       "3    17557\n",
       "4    17518\n",
       "5    15017\n",
       "2    12671\n",
       "6     9014\n",
       "7     5198\n",
       "8     2038\n",
       "1      966\n",
       "Name: cut_age, dtype: int64"
      ]
     },
     "execution_count": 31,
     "metadata": {},
     "output_type": "execute_result"
    }
   ],
   "source": [
    "demo['cut_age'].value_counts()"
   ]
  },
  {
   "cell_type": "code",
   "execution_count": 32,
   "id": "7afe2e50",
   "metadata": {},
   "outputs": [],
   "source": [
    "from numpy import linspace"
   ]
  },
  {
   "cell_type": "code",
   "execution_count": 33,
   "id": "78df7694",
   "metadata": {},
   "outputs": [
    {
     "data": {
      "text/plain": [
       "0        (33, 45]\n",
       "1        (33, 45]\n",
       "2        (33, 45]\n",
       "3        (45, 56]\n",
       "4        (22, 33]\n",
       "           ...   \n",
       "79995    (67, 78]\n",
       "79996    (56, 67]\n",
       "79997    (45, 56]\n",
       "79998    (45, 56]\n",
       "79999    (22, 33]\n",
       "Name: age, Length: 79979, dtype: category\n",
       "Categories (8, interval[int64, right]): [(0, 11] < (11, 22] < (22, 33] < (33, 45] < (45, 56] < (56, 67] < (67, 78] < (78, 90]]"
      ]
     },
     "execution_count": 33,
     "metadata": {},
     "output_type": "execute_result"
    }
   ],
   "source": [
    "pd.cut(demo['age'], bins=np.linspace(0,90,9, dtype=int))\n",
    "\n",
    "#reference linspace provides an array of evenly spaced numbers over the define range (first two digits) \n",
    "#the third is the number of cut points - should be one less category than number of cut points \n",
    "#adding dtype=int produces integers versus floaters"
   ]
  },
  {
   "cell_type": "code",
   "execution_count": 34,
   "id": "ea5ab07a",
   "metadata": {},
   "outputs": [],
   "source": [
    "#another option would be using numpy.arange\n",
    "# reference https://www.sharpsightlabs.com/blog/numpy-linspace/\n",
    "from numpy import arange"
   ]
  },
  {
   "cell_type": "code",
   "execution_count": 35,
   "id": "b7080d4d",
   "metadata": {},
   "outputs": [
    {
     "data": {
      "text/plain": [
       "array([37, 35, 45, ..., 54, 49, 30])"
      ]
     },
     "execution_count": 35,
     "metadata": {},
     "output_type": "execute_result"
    }
   ],
   "source": [
    "#reference https://www.sharpsightlabs.com/blog/numpy-array-python/\n",
    "\n",
    "np.array(demo['age'],  dtype = 'int')"
   ]
  },
  {
   "cell_type": "code",
   "execution_count": 36,
   "id": "11461c5c",
   "metadata": {},
   "outputs": [
    {
     "data": {
      "text/plain": [
       "0            (0, 437]\n",
       "1            (0, 437]\n",
       "2        (1312, 1750]\n",
       "3          (437, 875]\n",
       "4        (1750, 2187]\n",
       "             ...     \n",
       "79995      (437, 875]\n",
       "79996    (1750, 2187]\n",
       "79997        (0, 437]\n",
       "79998        (0, 437]\n",
       "79999      (437, 875]\n",
       "Name: amount, Length: 79979, dtype: category\n",
       "Categories (8, interval[int64, right]): [(0, 437] < (437, 875] < (875, 1312] < (1312, 1750] < (1750, 2187] < (2187, 2625] < (2625, 3062] < (3062, 3500]]"
      ]
     },
     "execution_count": 36,
     "metadata": {},
     "output_type": "execute_result"
    }
   ],
   "source": [
    "pd.cut(demo['amount'], bins=np.linspace(0,3500,9, dtype=int))"
   ]
  },
  {
   "cell_type": "code",
   "execution_count": 37,
   "id": "c87403ff",
   "metadata": {},
   "outputs": [
    {
     "data": {
      "text/plain": [
       "<bound method NDFrame.describe of 0         281.03\n",
       "1         219.51\n",
       "2        1525.70\n",
       "3         715.25\n",
       "4        1937.50\n",
       "          ...   \n",
       "79995     558.82\n",
       "79996    1932.00\n",
       "79997     414.16\n",
       "79998     335.32\n",
       "79999     527.12\n",
       "Name: amount, Length: 79979, dtype: float64>"
      ]
     },
     "execution_count": 37,
     "metadata": {},
     "output_type": "execute_result"
    }
   ],
   "source": [
    "demo['amount'].describe"
   ]
  },
  {
   "cell_type": "code",
   "execution_count": 38,
   "id": "471547a5",
   "metadata": {},
   "outputs": [
    {
     "data": {
      "text/plain": [
       "0          (158.31, 285.12]\n",
       "1          (158.31, 285.12]\n",
       "2        (1233.4, 1813.475]\n",
       "3         (582.14, 841.315]\n",
       "4        (1813.475, 3000.0]\n",
       "                ...        \n",
       "79995      (411.88, 582.14]\n",
       "79996    (1813.475, 3000.0]\n",
       "79997      (411.88, 582.14]\n",
       "79998      (285.12, 411.88]\n",
       "79999      (411.88, 582.14]\n",
       "Name: amount, Length: 79979, dtype: category\n",
       "Categories (8, interval[float64, right]): [(5.004, 158.31] < (158.31, 285.12] < (285.12, 411.88] < (411.88, 582.14] < (582.14, 841.315] < (841.315, 1233.4] < (1233.4, 1813.475] < (1813.475, 3000.0]]"
      ]
     },
     "execution_count": 38,
     "metadata": {},
     "output_type": "execute_result"
    }
   ],
   "source": [
    "pd.qcut(demo['amount'], q=8)"
   ]
  },
  {
   "cell_type": "code",
   "execution_count": 39,
   "id": "5b1e9ab2",
   "metadata": {},
   "outputs": [],
   "source": [
    "cut_labels_5 = ['100s','500s','1000s','2000s','3000s']\n",
    "cut_bins= [1, 100, 500, 1000, 2000, 3999]\n",
    "demo['cut_amount'] = pd.cut(demo['amount'], bins=cut_bins, labels=False)"
   ]
  },
  {
   "cell_type": "code",
   "execution_count": 40,
   "id": "0202546b",
   "metadata": {},
   "outputs": [
    {
     "data": {
      "text/plain": [
       "1    31326\n",
       "2    19166\n",
       "3    17249\n",
       "4     6750\n",
       "0     5488\n",
       "Name: cut_amount, dtype: int64"
      ]
     },
     "execution_count": 40,
     "metadata": {},
     "output_type": "execute_result"
    }
   ],
   "source": [
    "demo['cut_amount'].value_counts()"
   ]
  },
  {
   "cell_type": "code",
   "execution_count": 41,
   "id": "2e5f3997",
   "metadata": {},
   "outputs": [
    {
     "data": {
      "text/plain": [
       "array([3., 3., 4., ..., 5., 4., 3.])"
      ]
     },
     "execution_count": 41,
     "metadata": {},
     "output_type": "execute_result"
    }
   ],
   "source": [
    "np.array(demo['cut_age'], dtype=float)\n",
    "\n"
   ]
  },
  {
   "cell_type": "code",
   "execution_count": 42,
   "id": "be99e114",
   "metadata": {},
   "outputs": [],
   "source": [
    "from numpy import reshape"
   ]
  },
  {
   "cell_type": "code",
   "execution_count": 43,
   "id": "74b29080",
   "metadata": {},
   "outputs": [
    {
     "data": {
      "text/plain": [
       "array([[3],\n",
       "       [3],\n",
       "       [4],\n",
       "       ...,\n",
       "       [5],\n",
       "       [4],\n",
       "       [3]], dtype=int64)"
      ]
     },
     "execution_count": 43,
     "metadata": {},
     "output_type": "execute_result"
    }
   ],
   "source": [
    "np.reshape((np.array(demo['cut_age'])), (-1,1))"
   ]
  },
  {
   "cell_type": "code",
   "execution_count": 44,
   "id": "fc2f737f",
   "metadata": {},
   "outputs": [
    {
     "name": "stdout",
     "output_type": "stream",
     "text": [
      "Classification Report with Amount Bins\n"
     ]
    }
   ],
   "source": [
    "#recreating with discretized Amount\n",
    "print(\"Classification Report with Amount Bins\")\n",
    "\n",
    "x= demo[['in-store', 'cut_age', 'region', 'items']]\n",
    "y= demo['cut_amount']"
   ]
  },
  {
   "cell_type": "code",
   "execution_count": 45,
   "id": "fff84058",
   "metadata": {},
   "outputs": [
    {
     "data": {
      "text/html": [
       "<div>\n",
       "<style scoped>\n",
       "    .dataframe tbody tr th:only-of-type {\n",
       "        vertical-align: middle;\n",
       "    }\n",
       "\n",
       "    .dataframe tbody tr th {\n",
       "        vertical-align: top;\n",
       "    }\n",
       "\n",
       "    .dataframe thead th {\n",
       "        text-align: right;\n",
       "    }\n",
       "</style>\n",
       "<table border=\"1\" class=\"dataframe\">\n",
       "  <thead>\n",
       "    <tr style=\"text-align: right;\">\n",
       "      <th></th>\n",
       "      <th>in-store</th>\n",
       "      <th>cut_age</th>\n",
       "      <th>region</th>\n",
       "      <th>items</th>\n",
       "    </tr>\n",
       "  </thead>\n",
       "  <tbody>\n",
       "    <tr>\n",
       "      <th>0</th>\n",
       "      <td>0</td>\n",
       "      <td>3</td>\n",
       "      <td>2</td>\n",
       "      <td>4</td>\n",
       "    </tr>\n",
       "    <tr>\n",
       "      <th>1</th>\n",
       "      <td>0</td>\n",
       "      <td>3</td>\n",
       "      <td>2</td>\n",
       "      <td>2</td>\n",
       "    </tr>\n",
       "    <tr>\n",
       "      <th>2</th>\n",
       "      <td>1</td>\n",
       "      <td>4</td>\n",
       "      <td>4</td>\n",
       "      <td>3</td>\n",
       "    </tr>\n",
       "    <tr>\n",
       "      <th>3</th>\n",
       "      <td>1</td>\n",
       "      <td>4</td>\n",
       "      <td>3</td>\n",
       "      <td>3</td>\n",
       "    </tr>\n",
       "    <tr>\n",
       "      <th>4</th>\n",
       "      <td>1</td>\n",
       "      <td>3</td>\n",
       "      <td>1</td>\n",
       "      <td>4</td>\n",
       "    </tr>\n",
       "  </tbody>\n",
       "</table>\n",
       "</div>"
      ],
      "text/plain": [
       "   in-store  cut_age  region  items\n",
       "0         0        3       2      4\n",
       "1         0        3       2      2\n",
       "2         1        4       4      3\n",
       "3         1        4       3      3\n",
       "4         1        3       1      4"
      ]
     },
     "execution_count": 45,
     "metadata": {},
     "output_type": "execute_result"
    }
   ],
   "source": [
    "x.head()"
   ]
  },
  {
   "cell_type": "code",
   "execution_count": 46,
   "id": "955d4104",
   "metadata": {},
   "outputs": [],
   "source": [
    "x_train, x_test, y_train, y_test = train_test_split(x, y, test_size = .30, random_state = 123)\n",
    "algo = DecisionTreeClassifier()"
   ]
  },
  {
   "cell_type": "code",
   "execution_count": 47,
   "id": "0cfe8e8d",
   "metadata": {
    "scrolled": true
   },
   "outputs": [],
   "source": [
    "model = algo.fit(x_train, y_train)"
   ]
  },
  {
   "cell_type": "code",
   "execution_count": 48,
   "id": "5d2a9284",
   "metadata": {},
   "outputs": [],
   "source": [
    "preds = model.predict(x_test)"
   ]
  },
  {
   "cell_type": "code",
   "execution_count": 49,
   "id": "1e42030a",
   "metadata": {},
   "outputs": [
    {
     "name": "stdout",
     "output_type": "stream",
     "text": [
      "              precision    recall  f1-score   support\n",
      "\n",
      "           0       0.00      0.00      0.00      1628\n",
      "           1       0.78      0.54      0.64      9386\n",
      "           2       0.46      0.56      0.50      5819\n",
      "           3       0.43      0.66      0.52      5152\n",
      "           4       0.33      0.40      0.36      2009\n",
      "\n",
      "    accuracy                           0.52     23994\n",
      "   macro avg       0.40      0.43      0.40     23994\n",
      "weighted avg       0.53      0.52      0.51     23994\n",
      "\n"
     ]
    },
    {
     "name": "stderr",
     "output_type": "stream",
     "text": [
      "C:\\Users\\bling\\anaconda3\\envs\\task1.1\\lib\\site-packages\\sklearn\\metrics\\_classification.py:1318: UndefinedMetricWarning: Precision and F-score are ill-defined and being set to 0.0 in labels with no predicted samples. Use `zero_division` parameter to control this behavior.\n",
      "  _warn_prf(average, modifier, msg_start, len(result))\n",
      "C:\\Users\\bling\\anaconda3\\envs\\task1.1\\lib\\site-packages\\sklearn\\metrics\\_classification.py:1318: UndefinedMetricWarning: Precision and F-score are ill-defined and being set to 0.0 in labels with no predicted samples. Use `zero_division` parameter to control this behavior.\n",
      "  _warn_prf(average, modifier, msg_start, len(result))\n",
      "C:\\Users\\bling\\anaconda3\\envs\\task1.1\\lib\\site-packages\\sklearn\\metrics\\_classification.py:1318: UndefinedMetricWarning: Precision and F-score are ill-defined and being set to 0.0 in labels with no predicted samples. Use `zero_division` parameter to control this behavior.\n",
      "  _warn_prf(average, modifier, msg_start, len(result))\n"
     ]
    }
   ],
   "source": [
    "print(classification_report(y_test, preds))"
   ]
  },
  {
   "cell_type": "code",
   "execution_count": 50,
   "id": "2e8a955d",
   "metadata": {},
   "outputs": [
    {
     "name": "stdout",
     "output_type": "stream",
     "text": [
      "Classification Report with Age Bins\n"
     ]
    },
    {
     "data": {
      "text/html": [
       "<div>\n",
       "<style scoped>\n",
       "    .dataframe tbody tr th:only-of-type {\n",
       "        vertical-align: middle;\n",
       "    }\n",
       "\n",
       "    .dataframe tbody tr th {\n",
       "        vertical-align: top;\n",
       "    }\n",
       "\n",
       "    .dataframe thead th {\n",
       "        text-align: right;\n",
       "    }\n",
       "</style>\n",
       "<table border=\"1\" class=\"dataframe\">\n",
       "  <thead>\n",
       "    <tr style=\"text-align: right;\">\n",
       "      <th></th>\n",
       "      <th>cut_amount</th>\n",
       "      <th>region</th>\n",
       "      <th>items</th>\n",
       "      <th>in-store</th>\n",
       "    </tr>\n",
       "  </thead>\n",
       "  <tbody>\n",
       "    <tr>\n",
       "      <th>0</th>\n",
       "      <td>1</td>\n",
       "      <td>2</td>\n",
       "      <td>4</td>\n",
       "      <td>0</td>\n",
       "    </tr>\n",
       "    <tr>\n",
       "      <th>1</th>\n",
       "      <td>1</td>\n",
       "      <td>2</td>\n",
       "      <td>2</td>\n",
       "      <td>0</td>\n",
       "    </tr>\n",
       "    <tr>\n",
       "      <th>2</th>\n",
       "      <td>3</td>\n",
       "      <td>4</td>\n",
       "      <td>3</td>\n",
       "      <td>1</td>\n",
       "    </tr>\n",
       "    <tr>\n",
       "      <th>3</th>\n",
       "      <td>2</td>\n",
       "      <td>3</td>\n",
       "      <td>3</td>\n",
       "      <td>1</td>\n",
       "    </tr>\n",
       "    <tr>\n",
       "      <th>4</th>\n",
       "      <td>3</td>\n",
       "      <td>1</td>\n",
       "      <td>4</td>\n",
       "      <td>1</td>\n",
       "    </tr>\n",
       "  </tbody>\n",
       "</table>\n",
       "</div>"
      ],
      "text/plain": [
       "   cut_amount  region  items  in-store\n",
       "0           1       2      4         0\n",
       "1           1       2      2         0\n",
       "2           3       4      3         1\n",
       "3           2       3      3         1\n",
       "4           3       1      4         1"
      ]
     },
     "execution_count": 50,
     "metadata": {},
     "output_type": "execute_result"
    }
   ],
   "source": [
    "#recreating with discretized Age\n",
    "print(\"Classification Report with Age Bins\")\n",
    "\n",
    "x= demo[['cut_amount', 'region', 'items', 'in-store']]\n",
    "y= demo['cut_age']\n",
    "x.head()"
   ]
  },
  {
   "cell_type": "code",
   "execution_count": 51,
   "id": "cf46e612",
   "metadata": {},
   "outputs": [],
   "source": [
    "x_train, x_test, y_train, y_test = train_test_split(x, y, test_size = .30, random_state = 123)\n",
    "algo = DecisionTreeClassifier()"
   ]
  },
  {
   "cell_type": "code",
   "execution_count": 52,
   "id": "41f9e9f1",
   "metadata": {},
   "outputs": [],
   "source": [
    "model = algo.fit(x_train, y_train)"
   ]
  },
  {
   "cell_type": "code",
   "execution_count": 53,
   "id": "d24c9930",
   "metadata": {},
   "outputs": [],
   "source": [
    "preds = model.predict(x_test)"
   ]
  },
  {
   "cell_type": "code",
   "execution_count": 54,
   "id": "648b82bf",
   "metadata": {},
   "outputs": [
    {
     "name": "stdout",
     "output_type": "stream",
     "text": [
      "              precision    recall  f1-score   support\n",
      "\n",
      "           1       0.00      0.00      0.00       301\n",
      "           2       0.26      0.29      0.27      3796\n",
      "           3       0.21      0.32      0.25      5206\n",
      "           4       0.22      0.26      0.24      5338\n",
      "           5       0.20      0.17      0.18      4424\n",
      "           6       0.18      0.04      0.07      2731\n",
      "           7       0.16      0.13      0.14      1573\n",
      "           8       0.00      0.00      0.00       625\n",
      "\n",
      "    accuracy                           0.22     23994\n",
      "   macro avg       0.15      0.15      0.14     23994\n",
      "weighted avg       0.20      0.22      0.20     23994\n",
      "\n"
     ]
    },
    {
     "name": "stderr",
     "output_type": "stream",
     "text": [
      "C:\\Users\\bling\\anaconda3\\envs\\task1.1\\lib\\site-packages\\sklearn\\metrics\\_classification.py:1318: UndefinedMetricWarning: Precision and F-score are ill-defined and being set to 0.0 in labels with no predicted samples. Use `zero_division` parameter to control this behavior.\n",
      "  _warn_prf(average, modifier, msg_start, len(result))\n",
      "C:\\Users\\bling\\anaconda3\\envs\\task1.1\\lib\\site-packages\\sklearn\\metrics\\_classification.py:1318: UndefinedMetricWarning: Precision and F-score are ill-defined and being set to 0.0 in labels with no predicted samples. Use `zero_division` parameter to control this behavior.\n",
      "  _warn_prf(average, modifier, msg_start, len(result))\n",
      "C:\\Users\\bling\\anaconda3\\envs\\task1.1\\lib\\site-packages\\sklearn\\metrics\\_classification.py:1318: UndefinedMetricWarning: Precision and F-score are ill-defined and being set to 0.0 in labels with no predicted samples. Use `zero_division` parameter to control this behavior.\n",
      "  _warn_prf(average, modifier, msg_start, len(result))\n"
     ]
    }
   ],
   "source": [
    "print(classification_report(y_test, preds))"
   ]
  },
  {
   "cell_type": "code",
   "execution_count": 55,
   "id": "db9043ab",
   "metadata": {},
   "outputs": [
    {
     "data": {
      "image/png": "[encoded data removed]",
      "text/plain": [
       "<Figure size 432x288 with 1 Axes>"
      ]
     },
     "metadata": {
      "needs_background": "light"
     },
     "output_type": "display_data"
    }
   ],
   "source": [
    "x = demo['age']\n",
    "y = demo['region']\n",
    "plt.scatter(x,y, marker='o')\n",
    "plt.show()"
   ]
  },
  {
   "cell_type": "code",
   "execution_count": 56,
   "id": "9bc1d609",
   "metadata": {},
   "outputs": [],
   "source": [
    "#https://scikit-learn.org/stable/visualizations.html\n",
    "\n",
    "    \n",
    "from sklearn.svm import SVC\n",
    "from sklearn import metrics\n",
    "\n"
   ]
  },
  {
   "cell_type": "code",
   "execution_count": 57,
   "id": "397265dc",
   "metadata": {},
   "outputs": [],
   "source": [
    "#modeling - adding names for algo's\n",
    "\n",
    "\n",
    "\n",
    "algos_class=[]\n",
    "algos_class.append(('Random Forest Classifier', RandomForestClassifier()))\n",
    "algos_class.append(('Decision Tree Classifier', DecisionTreeClassifier()))\n",
    "algos_class.append(('Ada Boost Classifier', AdaBoostClassifier()))\n"
   ]
  },
  {
   "cell_type": "code",
   "execution_count": 58,
   "id": "5c500439",
   "metadata": {},
   "outputs": [
    {
     "name": "stdout",
     "output_type": "stream",
     "text": [
      "[('Random Forest Classifier', RandomForestClassifier()), ('Decision Tree Classifier', DecisionTreeClassifier()), ('Ada Boost Classifier', AdaBoostClassifier())]\n"
     ]
    },
    {
     "data": {
      "text/plain": [
       "list"
      ]
     },
     "execution_count": 58,
     "metadata": {},
     "output_type": "execute_result"
    }
   ],
   "source": [
    "print(algos_class)\n",
    "type(algos_class)\n"
   ]
  },
  {
   "cell_type": "code",
   "execution_count": 59,
   "id": "6d5396af",
   "metadata": {},
   "outputs": [],
   "source": [
    "results =[]\n",
    "names = []\n",
    "\n"
   ]
  },
  {
   "cell_type": "code",
   "execution_count": 60,
   "id": "d1199d82",
   "metadata": {},
   "outputs": [],
   "source": [
    "X= demo.iloc[:,0:4]\n",
    "y = demo['region']\n",
    "\n",
    "X_train, X_test, y_train, y_test = train_test_split(X, y, test_size = .30, random_state = 123)"
   ]
  },
  {
   "cell_type": "code",
   "execution_count": 61,
   "id": "46d914b6",
   "metadata": {},
   "outputs": [
    {
     "data": {
      "image/png": "[encoded data removed]",
      "text/plain": [
       "<Figure size 864x864 with 1 Axes>"
      ]
     },
     "metadata": {
      "needs_background": "light"
     },
     "output_type": "display_data"
    }
   ],
   "source": [
    "dtc = DecisionTreeClassifier(max_depth = 3)\n",
    "dtc.model = dtc.fit(X_train, y_train)\n",
    "\n",
    "plt.figure(figsize=(12, 12))\n",
    "plot_tree(dtc.model,\n",
    "         feature_names=X.columns, \n",
    "         class_names=['Region_1', 'Region_2', 'Region_3', 'Region_4'],\n",
    "         filled = True,\n",
    "         fontsize=10)\n",
    "plt.show()"
   ]
  },
  {
   "cell_type": "code",
   "execution_count": 62,
   "id": "0d144603",
   "metadata": {},
   "outputs": [
    {
     "data": {
      "text/html": [
       "<div>\n",
       "<style scoped>\n",
       "    .dataframe tbody tr th:only-of-type {\n",
       "        vertical-align: middle;\n",
       "    }\n",
       "\n",
       "    .dataframe tbody tr th {\n",
       "        vertical-align: top;\n",
       "    }\n",
       "\n",
       "    .dataframe thead th {\n",
       "        text-align: right;\n",
       "    }\n",
       "</style>\n",
       "<table border=\"1\" class=\"dataframe\">\n",
       "  <thead>\n",
       "    <tr style=\"text-align: right;\">\n",
       "      <th></th>\n",
       "      <th>in-store</th>\n",
       "      <th>age</th>\n",
       "      <th>items</th>\n",
       "      <th>amount</th>\n",
       "    </tr>\n",
       "  </thead>\n",
       "  <tbody>\n",
       "    <tr>\n",
       "      <th>0</th>\n",
       "      <td>0</td>\n",
       "      <td>37</td>\n",
       "      <td>4</td>\n",
       "      <td>281.03</td>\n",
       "    </tr>\n",
       "    <tr>\n",
       "      <th>1</th>\n",
       "      <td>0</td>\n",
       "      <td>35</td>\n",
       "      <td>2</td>\n",
       "      <td>219.51</td>\n",
       "    </tr>\n",
       "    <tr>\n",
       "      <th>2</th>\n",
       "      <td>1</td>\n",
       "      <td>45</td>\n",
       "      <td>3</td>\n",
       "      <td>1525.70</td>\n",
       "    </tr>\n",
       "    <tr>\n",
       "      <th>3</th>\n",
       "      <td>1</td>\n",
       "      <td>46</td>\n",
       "      <td>3</td>\n",
       "      <td>715.25</td>\n",
       "    </tr>\n",
       "    <tr>\n",
       "      <th>4</th>\n",
       "      <td>1</td>\n",
       "      <td>33</td>\n",
       "      <td>4</td>\n",
       "      <td>1937.50</td>\n",
       "    </tr>\n",
       "  </tbody>\n",
       "</table>\n",
       "</div>"
      ],
      "text/plain": [
       "   in-store  age  items   amount\n",
       "0         0   37      4   281.03\n",
       "1         0   35      2   219.51\n",
       "2         1   45      3  1525.70\n",
       "3         1   46      3   715.25\n",
       "4         1   33      4  1937.50"
      ]
     },
     "execution_count": 62,
     "metadata": {},
     "output_type": "execute_result"
    }
   ],
   "source": [
    "X.head()"
   ]
  },
  {
   "cell_type": "code",
   "execution_count": 63,
   "id": "1da4517a",
   "metadata": {
    "scrolled": true
   },
   "outputs": [
    {
     "name": "stdout",
     "output_type": "stream",
     "text": [
      "   region  items   amount  cut_age\n",
      "0       2      4   281.03        3\n",
      "1       2      2   219.51        3\n",
      "2       4      3  1525.70        4\n",
      "3       3      3   715.25        4\n",
      "4       1      4  1937.50        3\n",
      "0    0\n",
      "1    0\n",
      "2    1\n",
      "3    1\n",
      "4    1\n",
      "Name: in-store, dtype: int64\n"
     ]
    }
   ],
   "source": [
    "# work on second question - 'in-store'\n",
    "\n",
    "\n",
    "Xb = demo[['region', 'items', 'amount', 'cut_age']]\n",
    "yb = demo['in-store']\n",
    "\n",
    "print(Xb.head())\n",
    "print(yb.head())\n"
   ]
  },
  {
   "cell_type": "code",
   "execution_count": 64,
   "id": "4c1217d2",
   "metadata": {},
   "outputs": [
    {
     "name": "stdout",
     "output_type": "stream",
     "text": [
      "The Data Shape is (55985, 4) (55985,)\n",
      "Random Forest Classifier 0.8382602482807895\n",
      "Decision Tree Classifier 0.8350808252210413\n",
      "Ada Boost Classifier 0.8386353487541307\n"
     ]
    }
   ],
   "source": [
    "#creating train and test data for 'in store'\n",
    "\n",
    "X_trainb, X_testb , y_trainb, y_testb = train_test_split(Xb, yb, test_size = .30, random_state = 123)\n",
    "\n",
    "print('The Data Shape is', X_trainb.shape, y_trainb.shape)\n",
    "\n",
    "results_b = []\n",
    "names_b = []\n",
    "\n",
    "for name, model in algos_class:\n",
    "    result = cross_val_score(model, X_trainb, y_trainb, cv=5, scoring = 'accuracy')\n",
    "    names_b.append(name)\n",
    "    results_b.append(result)\n",
    "    \n",
    "    \n",
    "for i in range(len(names_b)):\n",
    "    print(names_b[i], results_b[i].mean())\n",
    "       \n",
    "\n",
    "\n",
    "    \n",
    "    "
   ]
  },
  {
   "cell_type": "code",
   "execution_count": 83,
   "id": "83d57873",
   "metadata": {},
   "outputs": [
    {
     "data": {
      "image/png": "[encoded data removed]",
      "text/plain": [
       "<Figure size 864x864 with 1 Axes>"
      ]
     },
     "metadata": {
      "needs_background": "light"
     },
     "output_type": "display_data"
    }
   ],
   "source": [
    "dtc = DecisionTreeClassifier(max_depth = 3)\n",
    "dtc.model = dtc.fit(X_trainb, y_trainb)\n",
    "\n",
    "plt.figure(figsize=(12, 12))\n",
    "plot_tree(dtc.model,\n",
    "         feature_names=X.columns, \n",
    "         class_names=['On_line', 'In-Store'],\n",
    "         filled = True,\n",
    "         fontsize=10)\n",
    "plt.show()"
   ]
  },
  {
   "cell_type": "code",
   "execution_count": 66,
   "id": "1836df36",
   "metadata": {},
   "outputs": [
    {
     "name": "stdout",
     "output_type": "stream",
     "text": [
      "Random Forest Classifier 0.8382602482807895\n",
      "Decision Tree Classifier 0.8350808252210413\n",
      "Ada Boost Classifier 0.8386353487541307\n"
     ]
    }
   ],
   "source": [
    "for i in range(len(names_b)):\n",
    "    print(names_b[i], results_b[i].mean())\n",
    "    \n"
   ]
  },
  {
   "cell_type": "code",
   "execution_count": 67,
   "id": "de6727cc",
   "metadata": {},
   "outputs": [
    {
     "name": "stdout",
     "output_type": "stream",
     "text": [
      "[array([0.83441993, 0.83879611, 0.84344021, 0.83522372, 0.83942127]), array([0.83290167, 0.8415647 , 0.83343753, 0.83263374, 0.83486648]), array([0.83620613, 0.84281504, 0.84236849, 0.83138341, 0.84040368])]\n",
      "['Random Forest Classifier', 'Decision Tree Classifier', 'Ada Boost Classifier']\n",
      "[('Random Forest Classifier', RandomForestClassifier()), ('Decision Tree Classifier', DecisionTreeClassifier()), ('Ada Boost Classifier', AdaBoostClassifier())]\n"
     ]
    }
   ],
   "source": [
    "print(results_b)\n",
    "print(names_b)\n",
    "print(algos_class)"
   ]
  },
  {
   "cell_type": "code",
   "execution_count": 68,
   "id": "a2f188d9",
   "metadata": {},
   "outputs": [
    {
     "name": "stdout",
     "output_type": "stream",
     "text": [
      "[array([0.83441993, 0.83879611, 0.84344021, 0.83522372, 0.83942127]), array([0.83290167, 0.8415647 , 0.83343753, 0.83263374, 0.83486648]), array([0.83620613, 0.84281504, 0.84236849, 0.83138341, 0.84040368])]\n"
     ]
    }
   ],
   "source": [
    "print(results_b)\n"
   ]
  },
  {
   "cell_type": "code",
   "execution_count": 69,
   "id": "b0ef6620",
   "metadata": {},
   "outputs": [
    {
     "name": "stdout",
     "output_type": "stream",
     "text": [
      "   region  items  in-store  cut_age\n",
      "0       2      4         0        3\n",
      "1       2      2         0        3\n",
      "2       4      3         1        4\n",
      "3       3      3         1        4\n",
      "4       1      4         1        3\n",
      "0    1\n",
      "1    1\n",
      "2    3\n",
      "3    2\n",
      "4    3\n",
      "Name: cut_amount, dtype: int64\n",
      "The Data Shape is (55985, 4) (55985,)\n",
      "Random Forest Classifier 0.5177278926665915\n",
      "Decision Tree Classifier 0.5178350489158725\n",
      "Ada Boost Classifier 0.4137715082463957\n"
     ]
    }
   ],
   "source": [
    "# cut amount as the dependent\n",
    "\n",
    "Xc = demo[['region', 'items', 'in-store', 'cut_age']]\n",
    "yc = demo['cut_amount']\n",
    "\n",
    "print(Xc.head())\n",
    "print(yc.head())\n",
    "\n",
    "X_trainc, X_testc , y_trainc, y_testc = train_test_split(Xc, yc, test_size = .30, random_state = 123)\n",
    "\n",
    "print('The Data Shape is', X_trainc.shape, y_trainc.shape)\n",
    "\n",
    "results_c = []\n",
    "names_c = []\n",
    "\n",
    "for name, model in algos_class:\n",
    "    result = cross_val_score(model, X_trainc, y_trainc, cv=3, scoring = 'accuracy')\n",
    "    names_c.append(name)\n",
    "    results_c.append(result)\n",
    "    \n",
    "    \n",
    "for i in range(len(names_c)):\n",
    "    print(names_c[i], results_c[i].mean())"
   ]
  },
  {
   "cell_type": "code",
   "execution_count": 70,
   "id": "7bfafe02",
   "metadata": {},
   "outputs": [
    {
     "name": "stdout",
     "output_type": "stream",
     "text": [
      "   region  items  in-store   amount\n",
      "0       2      4         0   281.03\n",
      "1       2      2         0   219.51\n",
      "2       4      3         1  1525.70\n",
      "3       3      3         1   715.25\n",
      "4       1      4         1  1937.50\n",
      "0    3\n",
      "1    3\n",
      "2    4\n",
      "3    4\n",
      "4    3\n",
      "Name: cut_age, dtype: int64\n",
      "The Data Shape is (55985, 4) (55985,)\n",
      "Random Forest Classifier 0.1977851546414511\n",
      "Decision Tree Classifier 0.19944630909578084\n",
      "Ada Boost Classifier 0.20603731433061132\n"
     ]
    }
   ],
   "source": [
    "# cut age as the dependent\n",
    "\n",
    "Xd = demo[['region', 'items', 'in-store', 'amount']]\n",
    "yd = demo['cut_age']\n",
    "\n",
    "print(Xd.head())\n",
    "print(yd.head())\n",
    "\n",
    "X_traind, X_testd , y_traind, y_testd = train_test_split(Xd, yd, test_size = .30, random_state = 123)\n",
    "\n",
    "print('The Data Shape is', X_traind.shape, y_traind.shape)\n",
    "\n",
    "results_d = []\n",
    "names_d = []\n",
    "\n",
    "for name, model in algos_class:\n",
    "    result = cross_val_score(model, X_traind, y_traind, cv=3, scoring = 'accuracy')\n",
    "    names_d.append(name)\n",
    "    results_d.append(result)\n",
    "    \n",
    "    \n",
    "for i in range(len(names_d)):\n",
    "    print(names_d[i], results_d[i].mean())"
   ]
  },
  {
   "cell_type": "code",
   "execution_count": 71,
   "id": "ce5a8cfd",
   "metadata": {},
   "outputs": [
    {
     "name": "stdout",
     "output_type": "stream",
     "text": [
      "Visualizing in-store versus online by region\n"
     ]
    },
    {
     "name": "stderr",
     "output_type": "stream",
     "text": [
      "C:\\Users\\bling\\anaconda3\\envs\\task1.1\\lib\\site-packages\\seaborn\\_decorators.py:36: FutureWarning: Pass the following variables as keyword args: x, y. From version 0.12, the only valid positional argument will be `data`, and passing other arguments without an explicit keyword will result in an error or misinterpretation.\n",
      "  warnings.warn(\n"
     ]
    },
    {
     "data": {
      "image/png": "[encoded data removed]",
      "text/plain": [
       "<Figure size 1440x360 with 4 Axes>"
      ]
     },
     "metadata": {
      "needs_background": "light"
     },
     "output_type": "display_data"
    }
   ],
   "source": [
    "print('Visualizing in-store versus online by region')\n",
    "\n",
    "fg=sns.catplot('in-store', 'age', data=demo, hue='region', col='region',\n",
    "                 palette='Blues')"
   ]
  },
  {
   "cell_type": "code",
   "execution_count": 72,
   "id": "40549f63",
   "metadata": {},
   "outputs": [
    {
     "data": {
      "text/html": [
       "<div>\n",
       "<style scoped>\n",
       "    .dataframe tbody tr th:only-of-type {\n",
       "        vertical-align: middle;\n",
       "    }\n",
       "\n",
       "    .dataframe tbody tr th {\n",
       "        vertical-align: top;\n",
       "    }\n",
       "\n",
       "    .dataframe thead th {\n",
       "        text-align: right;\n",
       "    }\n",
       "</style>\n",
       "<table border=\"1\" class=\"dataframe\">\n",
       "  <thead>\n",
       "    <tr style=\"text-align: right;\">\n",
       "      <th></th>\n",
       "      <th>age</th>\n",
       "    </tr>\n",
       "    <tr>\n",
       "      <th>region</th>\n",
       "      <th></th>\n",
       "    </tr>\n",
       "  </thead>\n",
       "  <tbody>\n",
       "    <tr>\n",
       "      <th>1</th>\n",
       "      <td>43.704132</td>\n",
       "    </tr>\n",
       "    <tr>\n",
       "      <th>2</th>\n",
       "      <td>56.609083</td>\n",
       "    </tr>\n",
       "    <tr>\n",
       "      <th>3</th>\n",
       "      <td>45.646944</td>\n",
       "    </tr>\n",
       "    <tr>\n",
       "      <th>4</th>\n",
       "      <td>38.752424</td>\n",
       "    </tr>\n",
       "    <tr>\n",
       "      <th>All</th>\n",
       "      <td>45.758512</td>\n",
       "    </tr>\n",
       "  </tbody>\n",
       "</table>\n",
       "</div>"
      ],
      "text/plain": [
       "              age\n",
       "region           \n",
       "1       43.704132\n",
       "2       56.609083\n",
       "3       45.646944\n",
       "4       38.752424\n",
       "All     45.758512"
      ]
     },
     "execution_count": 72,
     "metadata": {},
     "output_type": "execute_result"
    }
   ],
   "source": [
    "demo.pivot_table( 'age' , 'region', aggfunc=np.average, margins=True)"
   ]
  },
  {
   "cell_type": "code",
   "execution_count": 73,
   "id": "481b0ef3",
   "metadata": {},
   "outputs": [
    {
     "name": "stdout",
     "output_type": "stream",
     "text": [
      "            in-store       age     items    amount    region   cut_age  \\\n",
      "in-store    1.000000 -0.178180 -0.003897 -0.085573 -0.133171 -0.174141   \n",
      "age        -0.178180  1.000000  0.000657 -0.282033 -0.235370  0.983545   \n",
      "items      -0.003897  0.000657  1.000000  0.000384 -0.001904  0.002074   \n",
      "amount     -0.085573 -0.282033  0.000384  1.000000  0.403486 -0.275654   \n",
      "region     -0.133171 -0.235370 -0.001904  0.403486  1.000000 -0.229560   \n",
      "cut_age    -0.174141  0.983545  0.002074 -0.275654 -0.229560  1.000000   \n",
      "cut_amount  0.006020 -0.315434  0.001262  0.938350  0.414327 -0.308282   \n",
      "\n",
      "            cut_amount  \n",
      "in-store      0.006020  \n",
      "age          -0.315434  \n",
      "items         0.001262  \n",
      "amount        0.938350  \n",
      "region        0.414327  \n",
      "cut_age      -0.308282  \n",
      "cut_amount    1.000000  \n"
     ]
    }
   ],
   "source": [
    "corr_mat = demo.corr()\n",
    "print(corr_mat)"
   ]
  },
  {
   "cell_type": "code",
   "execution_count": 74,
   "id": "cc9662ec",
   "metadata": {},
   "outputs": [
    {
     "name": "stdout",
     "output_type": "stream",
     "text": [
      "             in-store          age     items         amount      region  \\\n",
      "in-store     0.250003    -1.400071 -0.004017     -30.860425   -0.075019   \n",
      "age         -1.400071   246.966189  0.021270   -3196.782841   -4.167305   \n",
      "items       -0.004017     0.021270  4.248751       0.570791   -0.004421   \n",
      "amount     -30.860425 -3196.782841  0.570791  520221.252295  327.874873   \n",
      "region      -0.075019    -4.167305 -0.004421     327.874873    1.269321   \n",
      "cut_age     -0.139702    24.799444  0.006859    -318.997428   -0.414964   \n",
      "cut_amount   0.003296    -5.426954  0.002848     740.949132    0.511044   \n",
      "\n",
      "               cut_age  cut_amount  \n",
      "in-store     -0.139702    0.003296  \n",
      "age          24.799444   -5.426954  \n",
      "items         0.006859    0.002848  \n",
      "amount     -318.997428  740.949132  \n",
      "region       -0.414964    0.511044  \n",
      "cut_age       2.574292   -0.541510  \n",
      "cut_amount   -0.541510    1.198557  \n"
     ]
    }
   ],
   "source": [
    "cov_mat = demo.cov()\n",
    "print(cov_mat)"
   ]
  },
  {
   "cell_type": "code",
   "execution_count": 75,
   "id": "b67bc075",
   "metadata": {},
   "outputs": [
    {
     "data": {
      "image/png": "[encoded data removed]",
      "text/plain": [
       "<Figure size 432x288 with 1 Axes>"
      ]
     },
     "metadata": {
      "needs_background": "light"
     },
     "output_type": "display_data"
    }
   ],
   "source": [
    "data_sample = demo.sample(100)\n",
    "\n",
    "x = data_sample['age']\n",
    "y = data_sample['in-store']\n",
    "plt.scatter(x,y, marker='o')\n",
    "plt.show()"
   ]
  },
  {
   "cell_type": "code",
   "execution_count": 76,
   "id": "1c5c1c68",
   "metadata": {},
   "outputs": [
    {
     "data": {
      "image/png": "[encoded data removed]",
      "text/plain": [
       "<Figure size 432x288 with 1 Axes>"
      ]
     },
     "metadata": {
      "needs_background": "light"
     },
     "output_type": "display_data"
    }
   ],
   "source": [
    "data_sample = demo.sample(100)\n",
    "\n",
    "x = data_sample['cut_age']\n",
    "y = data_sample['in-store']\n",
    "plt.scatter(x,y, marker='o')\n",
    "plt.show()"
   ]
  },
  {
   "cell_type": "code",
   "execution_count": 77,
   "id": "215da966",
   "metadata": {},
   "outputs": [
    {
     "name": "stderr",
     "output_type": "stream",
     "text": [
      "C:\\Users\\bling\\anaconda3\\envs\\task1.1\\lib\\site-packages\\seaborn\\_decorators.py:36: FutureWarning: Pass the following variables as keyword args: x, y. From version 0.12, the only valid positional argument will be `data`, and passing other arguments without an explicit keyword will result in an error or misinterpretation.\n",
      "  warnings.warn(\n"
     ]
    },
    {
     "data": {
      "text/plain": [
       "<seaborn.axisgrid.FacetGrid at 0x29a78957a60>"
      ]
     },
     "execution_count": 77,
     "metadata": {},
     "output_type": "execute_result"
    },
    {
     "data": {
      "image/png": "[encoded data removed]",
      "text/plain": [
       "<Figure size 406x360 with 1 Axes>"
      ]
     },
     "metadata": {
      "needs_background": "light"
     },
     "output_type": "display_data"
    }
   ],
   "source": [
    "sns.lmplot('age', 'region', data=demo, hue='in-store')"
   ]
  },
  {
   "cell_type": "code",
   "execution_count": 78,
   "id": "c2ff2cdc",
   "metadata": {},
   "outputs": [
    {
     "name": "stderr",
     "output_type": "stream",
     "text": [
      "C:\\Users\\bling\\anaconda3\\envs\\task1.1\\lib\\site-packages\\seaborn\\_decorators.py:36: FutureWarning: Pass the following variables as keyword args: x, y. From version 0.12, the only valid positional argument will be `data`, and passing other arguments without an explicit keyword will result in an error or misinterpretation.\n",
      "  warnings.warn(\n"
     ]
    },
    {
     "data": {
      "text/plain": [
       "<seaborn.axisgrid.FacetGrid at 0x29a788f36d0>"
      ]
     },
     "execution_count": 78,
     "metadata": {},
     "output_type": "execute_result"
    },
    {
     "data": {
      "image/png": "[encoded data removed]",
      "text/plain": [
       "<Figure size 406x360 with 1 Axes>"
      ]
     },
     "metadata": {
      "needs_background": "light"
     },
     "output_type": "display_data"
    }
   ],
   "source": [
    "sns.catplot('region','cut_age', hue='in-store', data=demo)"
   ]
  },
  {
   "cell_type": "code",
   "execution_count": 79,
   "id": "927ef5df",
   "metadata": {},
   "outputs": [
    {
     "data": {
      "image/png": "[encoded data removed]",
      "text/plain": [
       "<Figure size 432x216 with 2 Axes>"
      ]
     },
     "metadata": {
      "needs_background": "light"
     },
     "output_type": "display_data"
    }
   ],
   "source": [
    "g = sns.lmplot(x=\"age\", y=\"region\", col=\"in-store\", hue=\"in-store\",\n",
    "               data=demo, col_wrap=2, height=3)"
   ]
  },
  {
   "cell_type": "code",
   "execution_count": 80,
   "id": "7f026bca",
   "metadata": {},
   "outputs": [
    {
     "data": {
      "text/html": [
       "<div>\n",
       "<style scoped>\n",
       "    .dataframe tbody tr th:only-of-type {\n",
       "        vertical-align: middle;\n",
       "    }\n",
       "\n",
       "    .dataframe tbody tr th {\n",
       "        vertical-align: top;\n",
       "    }\n",
       "\n",
       "    .dataframe thead th {\n",
       "        text-align: right;\n",
       "    }\n",
       "</style>\n",
       "<table border=\"1\" class=\"dataframe\">\n",
       "  <thead>\n",
       "    <tr style=\"text-align: right;\">\n",
       "      <th></th>\n",
       "      <th>age</th>\n",
       "    </tr>\n",
       "    <tr>\n",
       "      <th>in-store</th>\n",
       "      <th></th>\n",
       "    </tr>\n",
       "  </thead>\n",
       "  <tbody>\n",
       "    <tr>\n",
       "      <th>0</th>\n",
       "      <td>48.558654</td>\n",
       "    </tr>\n",
       "    <tr>\n",
       "      <th>1</th>\n",
       "      <td>42.958440</td>\n",
       "    </tr>\n",
       "    <tr>\n",
       "      <th>All</th>\n",
       "      <td>45.758512</td>\n",
       "    </tr>\n",
       "  </tbody>\n",
       "</table>\n",
       "</div>"
      ],
      "text/plain": [
       "                age\n",
       "in-store           \n",
       "0         48.558654\n",
       "1         42.958440\n",
       "All       45.758512"
      ]
     },
     "execution_count": 80,
     "metadata": {},
     "output_type": "execute_result"
    }
   ],
   "source": [
    "demo.pivot_table( 'age' , 'in-store', aggfunc=np.average, margins=True)"
   ]
  },
  {
   "cell_type": "code",
   "execution_count": 81,
   "id": "2d4eb9f0",
   "metadata": {},
   "outputs": [
    {
     "name": "stdout",
     "output_type": "stream",
     "text": [
      "Visualizing Age of Customer by Online versus Instore by Region\n"
     ]
    },
    {
     "name": "stderr",
     "output_type": "stream",
     "text": [
      "C:\\Users\\bling\\anaconda3\\envs\\task1.1\\lib\\site-packages\\seaborn\\_decorators.py:36: FutureWarning: Pass the following variables as keyword args: x, y. From version 0.12, the only valid positional argument will be `data`, and passing other arguments without an explicit keyword will result in an error or misinterpretation.\n",
      "  warnings.warn(\n"
     ]
    },
    {
     "data": {
      "image/png": "[encoded data removed]",
      "text/plain": [
       "<Figure size 720x360 with 2 Axes>"
      ]
     },
     "metadata": {
      "needs_background": "light"
     },
     "output_type": "display_data"
    }
   ],
   "source": [
    "print('Visualizing Age of Customer by Online versus Instore by Region')\n",
    "\n",
    "fg=sns.catplot('region', 'age', data=demo, hue='in-store', col='in-store',\n",
    "                 palette='Blues')"
   ]
  },
  {
   "cell_type": "code",
   "execution_count": null,
   "id": "97c86f69",
   "metadata": {},
   "outputs": [],
   "source": []
  }
 ],
 "metadata": {
  "kernelspec": {
   "display_name": "Python 3 (ipykernel)",
   "language": "python",
   "name": "python3"
  },
  "language_info": {
   "codemirror_mode": {
    "name": "ipython",
    "version": 3
   },
   "file_extension": ".py",
   "mimetype": "text/x-python",
   "name": "python",
   "nbconvert_exporter": "python",
   "pygments_lexer": "ipython3",
   "version": "3.10.4"
  }
 },
 "nbformat": 4,
 "nbformat_minor": 5
}
